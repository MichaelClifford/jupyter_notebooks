{
 "cells": [
  {
   "cell_type": "markdown",
   "metadata": {},
   "source": [
    "# Validate Data Model Retraining for unit test"
   ]
  },
  {
   "cell_type": "markdown",
   "metadata": {},
   "source": [
    "* We should be looking at number of standard deviations away from the mean, to normalize between distances, instead of the absolute value metric.\n",
    "\n",
    "* The threshold for anomaly is this anyway. \n",
    "\n",
    "\n",
    "# note had to set PYTHONHASHSEED=42 in terminal for gensim W2V to provide reproducible results. \n",
    "\n",
    "### Still getting inconsistent results with the word vectors but colors seem to work, I suspect that the word vectors are too close to each other\n",
    "\n",
    "Below I have increased the value of the vectors by mulitplying by 100. This seems to have worked. \n",
    "\n",
    "\n",
    "* Why do the values of the distances change so much during retraining? \n",
    "* Why does the most common entry have the highest anomaly score? "
   ]
  },
  {
   "cell_type": "code",
   "execution_count": 2,
   "metadata": {},
   "outputs": [
    {
     "name": "stderr",
     "output_type": "stream",
     "text": [
      "CACHEDIR=/home/mcliffor/.cache/matplotlib\n",
      "Using fontManager instance from /home/mcliffor/.cache/matplotlib/fontList.json\n",
      "backend module://ipykernel.pylab.backend_inline version unknown\n",
      "'pattern' package not found; tag filters are not available for English\n",
      "backend module://ipykernel.pylab.backend_inline version unknown\n"
     ]
    }
   ],
   "source": [
    "import os\n",
    "import numpy as np\n",
    "import logging\n",
    "import sompy\n",
    "import SOM\n",
    "from multiprocessing import Pool\n",
    "import pandas as pd\n",
    "import re\n",
    "from gensim.models import Word2Vec\n",
    "import matplotlib.pyplot as plt\n",
    "\n",
    "from scipy.spatial.distance import cosine\n",
    "from sklearn.preprocessing import normalize\n",
    "\n",
    "\n",
    "np.random.seed(42)\n",
    "\n",
    "import matplotlib.pyplot as plt "
   ]
  },
  {
   "cell_type": "code",
   "execution_count": 4,
   "metadata": {},
   "outputs": [],
   "source": [
    "def train(inp, map_size, iterations, parallelism):\n",
    "    print(f'training dataset is of size {inp.shape[0]}')\n",
    "    mapsize = [map_size, map_size]\n",
    "    np.random.seed(42)\n",
    "    som = sompy.SOMFactory.build(inp, mapsize , initialization='random')\n",
    "    som.train(n_job=parallelism, train_rough_len=100,train_finetune_len=5)\n",
    "    model = som.codebook.matrix.reshape([map_size, map_size, inp.shape[1]])\n",
    "    #return model\n",
    "    return som\n",
    "\n",
    "def get_anomaly_score(logs, parallelism, model):\n",
    "\n",
    "    #pool = Pool(parallelism)\n",
    "    #dist = pool.map(calculate_anomaly_score, logs, model)\n",
    "    #pool.close()\n",
    "    #pool.join()\n",
    "    dist = [] \n",
    "    for log in logs:\n",
    "        dist.append(calculate_anomaly_score(log,model))\n",
    "    \n",
    "    return dist\n",
    "\n",
    "def save_visualisation(dest):\n",
    "    return None\n",
    "\n",
    "def calculate_anomaly_score(log, model):\n",
    "    \"\"\"Compute a distance of a log entry to elements of SOM.\"\"\"\n",
    "    # convert log into vector using same word2vec model (here just going to grab from existing)\n",
    "    dist_smallest = np.inf\n",
    "    for x in range(model.shape[0]):\n",
    "        for y in range(model.shape[1]):\n",
    "            dist = cosine(model[x][y],log)#np.linalg.norm(som[x][y]-log)\n",
    "            \n",
    "            #dist = np.linalg.norm(model[x][y] - log)\n",
    "            if dist < dist_smallest:\n",
    "                dist_smallest = dist\n",
    "    return dist\n",
    "\n",
    "\n",
    "def create(words, vector_length, window_size):\n",
    "    \"\"\"Create new word2vec model.\"\"\"\n",
    "    w2vmodel = {}\n",
    "    for col in words.columns:\n",
    "        if col in words:\n",
    "            w2vmodel[col] = Word2Vec([list(words[col])], min_count=1, size=vector_length, window=window_size, seed=42, workers=1)\n",
    "        else:\n",
    "            #_LOGGER.warning(\"Skipping key %s as it does not exist in 'words'\" % col)\n",
    "            pass\n",
    "        \n",
    "    return w2vmodel\n",
    "\n",
    "def one_vector(new_D, w2vmodel):\n",
    "    \"\"\"Create a single vector from model.\"\"\"\n",
    "    transforms = {}\n",
    "    for col in w2vmodel.keys():\n",
    "        if col in new_D:\n",
    "            transforms[col] = w2vmodel[col].wv[new_D[col]]\n",
    "\n",
    "    new_data = []\n",
    "\n",
    "    for i in range(len(transforms[\"message\"])):\n",
    "        logc = np.array(0)\n",
    "        for _, c in transforms.items():\n",
    "            if c.item(i):\n",
    "                logc = np.append(logc, c[i])\n",
    "            else:\n",
    "                logc = np.append(logc, [0, 0, 0, 0, 0])\n",
    "        new_data.append(logc)\n",
    "\n",
    "    return np.array(new_data, ndmin=2)\n",
    "\n",
    "def _clean_message(line):\n",
    "    \"\"\"Remove all none alphabetical characters from message strings.\"\"\"\n",
    "    return \"\".join(\n",
    "        re.findall(\"[a-zA-Z]+\", line)\n",
    "    )  # Leaving only a-z in there as numbers add to anomalousness quite a bit\n",
    "\n",
    "def _preprocess(data):\n",
    "    def to_str(x):\n",
    "        \"\"\"Convert all non-str lists to string lists for Word2Vec.\"\"\"\n",
    "        ret = \" \".join([str(y) for y in x]) if isinstance(x, list) else str(x)\n",
    "        return ret\n",
    "\n",
    "    for col in data.columns:\n",
    "        if col == \"message\":\n",
    "            data[col] = data[col].apply(_clean_message)\n",
    "        else:\n",
    "            data[col] = data[col].apply(to_str)\n",
    "\n",
    "    data = data.fillna(\"EMPTY\")"
   ]
  },
  {
   "cell_type": "code",
   "execution_count": 5,
   "metadata": {},
   "outputs": [],
   "source": [
    "data_path = \"/home/mcliffor/Desktop/zak_lad/log-anomaly-detector/validation_data/log_anomaly_detector-10000-events.json\""
   ]
  },
  {
   "cell_type": "code",
   "execution_count": 6,
   "metadata": {},
   "outputs": [],
   "source": [
    "data = pd.read_json(data_path)"
   ]
  },
  {
   "cell_type": "code",
   "execution_count": 7,
   "metadata": {},
   "outputs": [
    {
     "data": {
      "text/html": [
       "<div>\n",
       "<style scoped>\n",
       "    .dataframe tbody tr th:only-of-type {\n",
       "        vertical-align: middle;\n",
       "    }\n",
       "\n",
       "    .dataframe tbody tr th {\n",
       "        vertical-align: top;\n",
       "    }\n",
       "\n",
       "    .dataframe thead th {\n",
       "        text-align: right;\n",
       "    }\n",
       "</style>\n",
       "<table border=\"1\" class=\"dataframe\">\n",
       "  <thead>\n",
       "    <tr style=\"text-align: right;\">\n",
       "      <th></th>\n",
       "      <th>message</th>\n",
       "    </tr>\n",
       "  </thead>\n",
       "  <tbody>\n",
       "    <tr>\n",
       "      <th>0</th>\n",
       "      <td>DEBUGProcessedoutofpackages</td>\n",
       "    </tr>\n",
       "    <tr>\n",
       "      <th>1</th>\n",
       "      <td>DEBUGProcessedoutofpackages</td>\n",
       "    </tr>\n",
       "    <tr>\n",
       "      <th>2</th>\n",
       "      <td>DEBUGProcessedoutofpackages</td>\n",
       "    </tr>\n",
       "    <tr>\n",
       "      <th>3</th>\n",
       "      <td>DEBUGProcessedoutofpackages</td>\n",
       "    </tr>\n",
       "    <tr>\n",
       "      <th>4</th>\n",
       "      <td>DEBUGProcessedoutofpackages</td>\n",
       "    </tr>\n",
       "  </tbody>\n",
       "</table>\n",
       "</div>"
      ],
      "text/plain": [
       "                       message\n",
       "0  DEBUGProcessedoutofpackages\n",
       "1  DEBUGProcessedoutofpackages\n",
       "2  DEBUGProcessedoutofpackages\n",
       "3  DEBUGProcessedoutofpackages\n",
       "4  DEBUGProcessedoutofpackages"
      ]
     },
     "execution_count": 7,
     "metadata": {},
     "output_type": "execute_result"
    }
   ],
   "source": [
    "_preprocess(data)\n",
    "data.head()"
   ]
  },
  {
   "cell_type": "code",
   "execution_count": 8,
   "metadata": {},
   "outputs": [
    {
     "data": {
      "text/html": [
       "<div>\n",
       "<style scoped>\n",
       "    .dataframe tbody tr th:only-of-type {\n",
       "        vertical-align: middle;\n",
       "    }\n",
       "\n",
       "    .dataframe tbody tr th {\n",
       "        vertical-align: top;\n",
       "    }\n",
       "\n",
       "    .dataframe thead th {\n",
       "        text-align: right;\n",
       "    }\n",
       "</style>\n",
       "<table border=\"1\" class=\"dataframe\">\n",
       "  <thead>\n",
       "    <tr style=\"text-align: right;\">\n",
       "      <th></th>\n",
       "      <th>message</th>\n",
       "    </tr>\n",
       "  </thead>\n",
       "  <tbody>\n",
       "    <tr>\n",
       "      <th>6188</th>\n",
       "      <td>rootCMDusrlocalbinmonitorapachestatsshdevnull</td>\n",
       "    </tr>\n",
       "  </tbody>\n",
       "</table>\n",
       "</div>"
      ],
      "text/plain": [
       "                                            message\n",
       "6188  rootCMDusrlocalbinmonitorapachestatsshdevnull"
      ]
     },
     "execution_count": 8,
     "metadata": {},
     "output_type": "execute_result"
    }
   ],
   "source": [
    "data[data.message == \"rootCMDusrlocalbinmonitorapachestatsshdevnull\"]"
   ]
  },
  {
   "cell_type": "code",
   "execution_count": 9,
   "metadata": {},
   "outputs": [
    {
     "data": {
      "text/html": [
       "<div>\n",
       "<style scoped>\n",
       "    .dataframe tbody tr th:only-of-type {\n",
       "        vertical-align: middle;\n",
       "    }\n",
       "\n",
       "    .dataframe tbody tr th {\n",
       "        vertical-align: top;\n",
       "    }\n",
       "\n",
       "    .dataframe thead th {\n",
       "        text-align: right;\n",
       "    }\n",
       "</style>\n",
       "<table border=\"1\" class=\"dataframe\">\n",
       "  <thead>\n",
       "    <tr style=\"text-align: right;\">\n",
       "      <th></th>\n",
       "      <th>message</th>\n",
       "    </tr>\n",
       "  </thead>\n",
       "  <tbody>\n",
       "    <tr>\n",
       "      <th>9995</th>\n",
       "      <td>DEBUGProcessedoutofpackages</td>\n",
       "    </tr>\n",
       "    <tr>\n",
       "      <th>9996</th>\n",
       "      <td>DEBUGProcessedoutofpackages</td>\n",
       "    </tr>\n",
       "    <tr>\n",
       "      <th>9997</th>\n",
       "      <td>DEBUGProcessedoutofpackages</td>\n",
       "    </tr>\n",
       "    <tr>\n",
       "      <th>9998</th>\n",
       "      <td>DEBUGProcessedoutofpackages</td>\n",
       "    </tr>\n",
       "    <tr>\n",
       "      <th>9999</th>\n",
       "      <td>DEBUGProcessedoutofpackages</td>\n",
       "    </tr>\n",
       "  </tbody>\n",
       "</table>\n",
       "</div>"
      ],
      "text/plain": [
       "                          message\n",
       "9995  DEBUGProcessedoutofpackages\n",
       "9996  DEBUGProcessedoutofpackages\n",
       "9997  DEBUGProcessedoutofpackages\n",
       "9998  DEBUGProcessedoutofpackages\n",
       "9999  DEBUGProcessedoutofpackages"
      ]
     },
     "execution_count": 9,
     "metadata": {},
     "output_type": "execute_result"
    }
   ],
   "source": [
    "data.tail()"
   ]
  },
  {
   "cell_type": "code",
   "execution_count": 10,
   "metadata": {},
   "outputs": [
    {
     "data": {
      "text/plain": [
       "DEBUGProcessedoutofpackages                            9786\n",
       "ThreadodcsserverINFOComposetypestatedoneComposedone     213\n",
       "rootCMDusrlocalbinmonitorapachestatsshdevnull             1\n",
       "Name: message, dtype: int64"
      ]
     },
     "execution_count": 10,
     "metadata": {},
     "output_type": "execute_result"
    }
   ],
   "source": [
    "data.message.value_counts()"
   ]
  },
  {
   "cell_type": "code",
   "execution_count": 11,
   "metadata": {},
   "outputs": [
    {
     "name": "stderr",
     "output_type": "stream",
     "text": [
      "consider setting layer size to a multiple of 4 for greater performance\n",
      "collecting all words and their counts\n",
      "PROGRESS: at sentence #0, processed 0 words, keeping 0 word types\n",
      "collected 3 word types from a corpus of 10000 raw words and 1 sentences\n",
      "Loading a fresh vocabulary\n",
      "min_count=1 retains 3 unique words (100% of original 3, drops 0)\n",
      "min_count=1 leaves 10000 word corpus (100% of original 10000, drops 0)\n",
      "deleting the raw counts dictionary of 3 items\n",
      "sample=0.001 downsamples 2 most-common words\n",
      "downsampling leaves estimated 379 word corpus (3.8% of prior 10000)\n",
      "estimated required memory for 3 words and 3 dimensions: 1572 bytes\n",
      "resetting layer weights\n",
      "training model with 1 workers on 3 vocabulary and 3 features, using sg=0 hs=0 sample=0.001 negative=5 window=5\n",
      "job loop exiting, total 1 jobs\n",
      "worker exiting, processed 1 jobs\n",
      "worker thread finished; awaiting finish of 0 more threads\n",
      "EPOCH - 1 : training on 10000 raw words (377 effective words) took 0.0s, 206056 effective words/s\n",
      "job loop exiting, total 1 jobs\n",
      "worker exiting, processed 1 jobs\n",
      "worker thread finished; awaiting finish of 0 more threads\n",
      "EPOCH - 2 : training on 10000 raw words (370 effective words) took 0.0s, 231483 effective words/s\n",
      "job loop exiting, total 1 jobs\n",
      "worker exiting, processed 1 jobs\n",
      "worker thread finished; awaiting finish of 0 more threads\n",
      "EPOCH - 3 : training on 10000 raw words (391 effective words) took 0.0s, 153933 effective words/s\n",
      "job loop exiting, total 1 jobs\n",
      "worker exiting, processed 1 jobs\n",
      "worker thread finished; awaiting finish of 0 more threads\n",
      "EPOCH - 4 : training on 10000 raw words (346 effective words) took 0.0s, 127108 effective words/s\n",
      "job loop exiting, total 1 jobs\n",
      "worker exiting, processed 1 jobs\n",
      "worker thread finished; awaiting finish of 0 more threads\n",
      "EPOCH - 5 : training on 10000 raw words (363 effective words) took 0.0s, 281467 effective words/s\n",
      "training on a 50000 raw words (1847 effective words) took 0.0s, 92684 effective words/s\n",
      "under 10 jobs per worker: consider setting a smaller `batch_words' for smoother alpha decay\n"
     ]
    }
   ],
   "source": [
    "w2vmodel = create(data, 3,5)"
   ]
  },
  {
   "cell_type": "code",
   "execution_count": 12,
   "metadata": {},
   "outputs": [],
   "source": [
    "transformed_data = one_vector(data, w2vmodel)\n",
    "transformed_data = np.abs(transformed_data[:,1:])\n",
    "#transformed_data = transformed_data[:,1:]"
   ]
  },
  {
   "cell_type": "code",
   "execution_count": 13,
   "metadata": {},
   "outputs": [],
   "source": [
    "#transformed_data  = np.array([[5,8,100], [20,13,2],[30,31,45]]*200)\n",
    "map_size = 16"
   ]
  },
  {
   "cell_type": "code",
   "execution_count": 14,
   "metadata": {},
   "outputs": [
    {
     "data": {
      "text/plain": [
       "array([[2.07785535, 0.96323067, 0.39087647],\n",
       "       [2.07785535, 0.96323067, 0.39087647],\n",
       "       [2.07785535, 0.96323067, 0.39087647],\n",
       "       ...,\n",
       "       [2.07785535, 0.96323067, 0.39087647],\n",
       "       [2.07785535, 0.96323067, 0.39087647],\n",
       "       [2.07785535, 0.96323067, 0.39087647]])"
      ]
     },
     "execution_count": 14,
     "metadata": {},
     "output_type": "execute_result"
    }
   ],
   "source": [
    "transformed_data"
   ]
  },
  {
   "cell_type": "code",
   "execution_count": 15,
   "metadata": {},
   "outputs": [
    {
     "name": "stdout",
     "output_type": "stream",
     "text": [
      "10000\n",
      "11000\n"
     ]
    }
   ],
   "source": [
    "np.random.seed(42)\n",
    "fp = np.abs(w2vmodel[\"message\"].wv[\"rootCMDusrlocalbinmonitorapachestatsshdevnull\"])\n",
    "FP_Data = np.array(list(transformed_data) + [fp]*1000)\n",
    "print(len(transformed_data))\n",
    "print(len(FP_Data))"
   ]
  },
  {
   "cell_type": "code",
   "execution_count": 16,
   "metadata": {},
   "outputs": [
    {
     "data": {
      "text/plain": [
       "array([0.04579642, 0.11827677, 0.12030392])"
      ]
     },
     "execution_count": 16,
     "metadata": {},
     "output_type": "execute_result"
    }
   ],
   "source": [
    "FP_Data[-1]"
   ]
  },
  {
   "cell_type": "code",
   "execution_count": 17,
   "metadata": {},
   "outputs": [
    {
     "name": "stderr",
     "output_type": "stream",
     "text": [
      " Training...\n",
      " random_initialization took: 0.001000 seconds\n",
      " Rough training...\n",
      " radius_ini: 6.000000 , radius_final: 1.000000, trainlen: 100\n",
      "\n",
      " epoch: 1 ---> elapsed time:  0.112000, quantization error: 1.711021\n",
      "\n"
     ]
    },
    {
     "name": "stdout",
     "output_type": "stream",
     "text": [
      "training dataset is of size 10000\n"
     ]
    },
    {
     "name": "stderr",
     "output_type": "stream",
     "text": [
      " epoch: 2 ---> elapsed time:  0.127000, quantization error: 0.153436\n",
      "\n",
      " epoch: 3 ---> elapsed time:  0.130000, quantization error: 0.020338\n",
      "\n",
      " epoch: 4 ---> elapsed time:  0.237000, quantization error: 0.036616\n",
      "\n",
      " epoch: 5 ---> elapsed time:  0.322000, quantization error: 0.033757\n",
      "\n",
      " epoch: 6 ---> elapsed time:  0.111000, quantization error: 0.031038\n",
      "\n",
      " epoch: 7 ---> elapsed time:  0.236000, quantization error: 0.038965\n",
      "\n",
      " epoch: 8 ---> elapsed time:  0.129000, quantization error: 0.035877\n",
      "\n",
      " epoch: 9 ---> elapsed time:  0.123000, quantization error: 0.032949\n",
      "\n",
      " epoch: 10 ---> elapsed time:  0.126000, quantization error: 0.030181\n",
      "\n",
      " epoch: 11 ---> elapsed time:  0.129000, quantization error: 0.027531\n",
      "\n",
      " epoch: 12 ---> elapsed time:  0.137000, quantization error: 0.034529\n",
      "\n",
      " epoch: 13 ---> elapsed time:  0.130000, quantization error: 0.031558\n",
      "\n",
      " epoch: 14 ---> elapsed time:  0.139000, quantization error: 0.028762\n",
      "\n",
      " epoch: 15 ---> elapsed time:  0.139000, quantization error: 0.026141\n",
      "\n",
      " epoch: 16 ---> elapsed time:  0.243000, quantization error: 0.023634\n",
      "\n",
      " epoch: 17 ---> elapsed time:  0.198000, quantization error: 0.029537\n",
      "\n",
      " epoch: 18 ---> elapsed time:  0.247000, quantization error: 0.026754\n",
      "\n",
      " epoch: 19 ---> elapsed time:  0.126000, quantization error: 0.024160\n",
      "\n",
      " epoch: 20 ---> elapsed time:  0.127000, quantization error: 0.021752\n",
      "\n",
      " epoch: 21 ---> elapsed time:  0.123000, quantization error: 0.019475\n",
      "\n",
      " epoch: 22 ---> elapsed time:  0.134000, quantization error: 0.024161\n",
      "\n",
      " epoch: 23 ---> elapsed time:  0.116000, quantization error: 0.021648\n",
      "\n",
      " epoch: 24 ---> elapsed time:  0.121000, quantization error: 0.019333\n",
      "\n",
      " epoch: 25 ---> elapsed time:  0.122000, quantization error: 0.017214\n",
      "\n",
      " epoch: 26 ---> elapsed time:  0.122000, quantization error: 0.015253\n",
      "\n",
      " epoch: 27 ---> elapsed time:  0.122000, quantization error: 0.018678\n",
      "\n",
      " epoch: 28 ---> elapsed time:  0.122000, quantization error: 0.016522\n",
      "\n",
      " epoch: 29 ---> elapsed time:  0.121000, quantization error: 0.014566\n",
      "\n",
      " epoch: 30 ---> elapsed time:  0.115000, quantization error: 0.012803\n",
      "\n",
      " epoch: 31 ---> elapsed time:  0.115000, quantization error: 0.011221\n",
      "\n",
      " epoch: 32 ---> elapsed time:  0.121000, quantization error: 0.009774\n",
      "\n",
      " epoch: 33 ---> elapsed time:  0.249000, quantization error: 0.011742\n",
      "\n",
      " epoch: 34 ---> elapsed time:  0.130000, quantization error: 0.010206\n",
      "\n",
      " epoch: 35 ---> elapsed time:  0.123000, quantization error: 0.008847\n",
      "\n",
      " epoch: 36 ---> elapsed time:  0.123000, quantization error: 0.007654\n",
      "\n",
      " epoch: 37 ---> elapsed time:  0.123000, quantization error: 0.006611\n",
      "\n",
      " epoch: 38 ---> elapsed time:  0.123000, quantization error: 0.005686\n",
      "\n",
      " epoch: 39 ---> elapsed time:  0.131000, quantization error: 0.006591\n",
      "\n",
      " epoch: 40 ---> elapsed time:  0.117000, quantization error: 0.005647\n",
      "\n",
      " epoch: 41 ---> elapsed time:  0.116000, quantization error: 0.004839\n",
      "\n",
      " epoch: 42 ---> elapsed time:  0.131000, quantization error: 0.004151\n",
      "\n",
      " epoch: 43 ---> elapsed time:  0.116000, quantization error: 0.003570\n",
      "\n",
      " epoch: 44 ---> elapsed time:  0.122000, quantization error: 0.003081\n",
      "\n",
      " epoch: 45 ---> elapsed time:  0.125000, quantization error: 0.003376\n",
      "\n",
      " epoch: 46 ---> elapsed time:  0.121000, quantization error: 0.002901\n",
      "\n",
      " epoch: 47 ---> elapsed time:  0.121000, quantization error: 0.002511\n",
      "\n",
      " epoch: 48 ---> elapsed time:  0.121000, quantization error: 0.002192\n",
      "\n",
      " epoch: 49 ---> elapsed time:  0.226000, quantization error: 0.001935\n",
      "\n",
      " epoch: 50 ---> elapsed time:  0.149000, quantization error: 0.001724\n",
      "\n",
      " epoch: 51 ---> elapsed time:  0.123000, quantization error: 0.000771\n",
      "\n",
      " epoch: 52 ---> elapsed time:  0.122000, quantization error: 0.000242\n",
      "\n",
      " epoch: 53 ---> elapsed time:  0.122000, quantization error: 0.000352\n",
      "\n",
      " epoch: 54 ---> elapsed time:  0.122000, quantization error: 0.000231\n",
      "\n",
      " epoch: 55 ---> elapsed time:  0.123000, quantization error: 0.000177\n",
      "\n",
      " epoch: 56 ---> elapsed time:  0.123000, quantization error: 0.000097\n",
      "\n",
      " epoch: 57 ---> elapsed time:  0.123000, quantization error: 0.000069\n",
      "\n",
      " epoch: 58 ---> elapsed time:  0.123000, quantization error: 0.000033\n",
      "\n",
      " epoch: 59 ---> elapsed time:  0.124000, quantization error: 0.000022\n",
      "\n",
      " epoch: 60 ---> elapsed time:  0.123000, quantization error: 0.000011\n",
      "\n",
      " epoch: 61 ---> elapsed time:  0.128000, quantization error: 0.000007\n",
      "\n",
      " epoch: 62 ---> elapsed time:  0.123000, quantization error: 0.000005\n",
      "\n",
      " epoch: 63 ---> elapsed time:  0.130000, quantization error: 0.000004\n",
      "\n",
      " epoch: 64 ---> elapsed time:  0.132000, quantization error: 0.000004\n",
      "\n",
      " epoch: 65 ---> elapsed time:  0.160000, quantization error: 0.000004\n",
      "\n",
      " epoch: 66 ---> elapsed time:  0.128000, quantization error: 0.000004\n",
      "\n",
      " epoch: 67 ---> elapsed time:  0.124000, quantization error: 0.000003\n",
      "\n",
      " epoch: 68 ---> elapsed time:  0.124000, quantization error: 0.000002\n",
      "\n",
      " epoch: 69 ---> elapsed time:  0.124000, quantization error: 0.000001\n",
      "\n",
      " epoch: 70 ---> elapsed time:  0.124000, quantization error: 0.000001\n",
      "\n",
      " epoch: 71 ---> elapsed time:  0.118000, quantization error: 0.000003\n",
      "\n",
      " epoch: 72 ---> elapsed time:  0.124000, quantization error: 0.000002\n",
      "\n",
      " epoch: 73 ---> elapsed time:  0.124000, quantization error: 0.000001\n",
      "\n",
      " epoch: 74 ---> elapsed time:  0.124000, quantization error: 0.000001\n",
      "\n",
      " epoch: 75 ---> elapsed time:  0.124000, quantization error: 0.000002\n",
      "\n",
      " epoch: 76 ---> elapsed time:  0.124000, quantization error: 0.000001\n",
      "\n",
      " epoch: 77 ---> elapsed time:  0.124000, quantization error: 0.000001\n",
      "\n",
      " epoch: 78 ---> elapsed time:  0.124000, quantization error: 0.000003\n",
      "\n",
      " epoch: 79 ---> elapsed time:  0.125000, quantization error: 0.000002\n",
      "\n",
      " epoch: 80 ---> elapsed time:  0.126000, quantization error: 0.000001\n",
      "\n",
      " epoch: 81 ---> elapsed time:  0.234000, quantization error: 0.000001\n",
      "\n",
      " epoch: 82 ---> elapsed time:  0.131000, quantization error: 0.000002\n",
      "\n",
      " epoch: 83 ---> elapsed time:  0.121000, quantization error: 0.000001\n",
      "\n",
      " epoch: 84 ---> elapsed time:  0.122000, quantization error: 0.000001\n",
      "\n",
      " epoch: 85 ---> elapsed time:  0.123000, quantization error: 0.000001\n",
      "\n",
      " epoch: 86 ---> elapsed time:  0.123000, quantization error: 0.000002\n",
      "\n",
      " epoch: 87 ---> elapsed time:  0.123000, quantization error: 0.000001\n",
      "\n",
      " epoch: 88 ---> elapsed time:  0.123000, quantization error: 0.000001\n",
      "\n",
      " epoch: 89 ---> elapsed time:  0.126000, quantization error: 0.000002\n",
      "\n",
      " epoch: 90 ---> elapsed time:  0.130000, quantization error: 0.000001\n",
      "\n",
      " epoch: 91 ---> elapsed time:  0.126000, quantization error: 0.000001\n",
      "\n",
      " epoch: 92 ---> elapsed time:  0.122000, quantization error: 0.000001\n",
      "\n",
      " epoch: 93 ---> elapsed time:  0.123000, quantization error: 0.000002\n",
      "\n",
      " epoch: 94 ---> elapsed time:  0.122000, quantization error: 0.000001\n",
      "\n",
      " epoch: 95 ---> elapsed time:  0.123000, quantization error: 0.000001\n",
      "\n",
      " epoch: 96 ---> elapsed time:  0.121000, quantization error: 0.000001\n",
      "\n",
      " epoch: 97 ---> elapsed time:  0.258000, quantization error: 0.000001\n",
      "\n",
      " epoch: 98 ---> elapsed time:  0.222000, quantization error: 0.000001\n",
      "\n",
      " epoch: 99 ---> elapsed time:  0.122000, quantization error: 0.000001\n",
      "\n",
      " epoch: 100 ---> elapsed time:  0.122000, quantization error: 0.000001\n",
      "\n",
      " Finetune training...\n",
      " radius_ini: 1.333333 , radius_final: 1.000000, trainlen: 5\n",
      "\n",
      " epoch: 1 ---> elapsed time:  0.129000, quantization error: 0.000001\n",
      "\n",
      " epoch: 2 ---> elapsed time:  0.123000, quantization error: 0.000469\n",
      "\n",
      " epoch: 3 ---> elapsed time:  0.122000, quantization error: 0.000001\n",
      "\n",
      " epoch: 4 ---> elapsed time:  0.123000, quantization error: 0.000001\n",
      "\n",
      " epoch: 5 ---> elapsed time:  0.139000, quantization error: 0.000001\n",
      "\n",
      " Final quantization error: 0.000001\n",
      " train took: 14.497000 seconds\n"
     ]
    }
   ],
   "source": [
    "model = train(transformed_data,map_size, 0, 2)"
   ]
  },
  {
   "cell_type": "code",
   "execution_count": 18,
   "metadata": {},
   "outputs": [],
   "source": [
    "#plt.imshow(model)"
   ]
  },
  {
   "cell_type": "code",
   "execution_count": 19,
   "metadata": {},
   "outputs": [
    {
     "name": "stderr",
     "output_type": "stream",
     "text": [
      "/home/mcliffor/anaconda3/envs/devenv/lib/python3.7/site-packages/matplotlib/cbook/deprecation.py:107: MatplotlibDeprecationWarning: Adding an axes using the same arguments as a previous axes currently reuses the earlier instance.  In a future version, a new instance will always be created and returned.  Meanwhile, this warning can be suppressed, and the future behavior ensured, by passing a unique label to each axes instance.\n",
      "  warnings.warn(message, mplDeprecation, stacklevel=1)\n"
     ]
    },
    {
     "data": {
      "image/png": "[encoded data removed]",
      "text/plain": [
       "<Figure size 720x720 with 1 Axes>"
      ]
     },
     "metadata": {},
     "output_type": "display_data"
    }
   ],
   "source": [
    "from sompy.visualization.hitmap import HitMapView\n",
    "model.cluster(4)\n",
    "hits  = HitMapView(10,10,\"Clustering\",text_size=7)\n",
    "a=hits.show(model, labelsize=12)"
   ]
  },
  {
   "cell_type": "code",
   "execution_count": 20,
   "metadata": {},
   "outputs": [
    {
     "data": {
      "image/png": "[encoded data removed]",
      "text/plain": [
       "<Figure size 1152x288 with 6 Axes>"
      ]
     },
     "metadata": {},
     "output_type": "display_data"
    }
   ],
   "source": [
    "from sompy.visualization.mapview import View2D\n",
    "view2D  = View2D(10,10,\"rand data\",text_size=10)\n",
    "view2D.show(model, col_sz=4, which_dim=\"all\", denormalize=True)"
   ]
  },
  {
   "cell_type": "code",
   "execution_count": 21,
   "metadata": {},
   "outputs": [
    {
     "data": {
      "image/png": "[encoded data removed]",
      "text/plain": [
       "<Figure size 720x720 with 2 Axes>"
      ]
     },
     "metadata": {},
     "output_type": "display_data"
    }
   ],
   "source": [
    "from sompy.visualization.bmuhits import BmuHitsView\n",
    "\n",
    "vhts  = BmuHitsView(10,10,\"Hits Map\",text_size=7)\n",
    "vhts.show(model, anotate=True, onlyzeros=False, labelsize=12, cmap=\"Greys\", logaritmic=False)"
   ]
  },
  {
   "cell_type": "code",
   "execution_count": 22,
   "metadata": {},
   "outputs": [],
   "source": [
    "#plt.imshow(np.ones((4,4,3))*w2vmodel['message'].wv[\"DEBUGProcessedoutofpackages\"])"
   ]
  },
  {
   "cell_type": "code",
   "execution_count": 23,
   "metadata": {},
   "outputs": [],
   "source": [
    "#plt.imshow(np.ones((4,4,3))*w2vmodel['message'].wv[\"ThreadodcsserverINFOComposetypestatedoneComposedone\"])"
   ]
  },
  {
   "cell_type": "code",
   "execution_count": 24,
   "metadata": {},
   "outputs": [],
   "source": [
    "#plt.imshow(np.ones((4,4,3))*w2vmodel['message'].wv[\"rootCMDusrlocalbinmonitorapachestatsshdevnull\"])"
   ]
  },
  {
   "cell_type": "code",
   "execution_count": 25,
   "metadata": {},
   "outputs": [
    {
     "name": "stderr",
     "output_type": "stream",
     "text": [
      " Training...\n",
      " random_initialization took: 0.001000 seconds\n",
      " Rough training...\n",
      " radius_ini: 6.000000 , radius_final: 1.000000, trainlen: 100\n",
      "\n",
      " epoch: 1 ---> elapsed time:  0.114000, quantization error: 0.776358\n",
      "\n"
     ]
    },
    {
     "name": "stdout",
     "output_type": "stream",
     "text": [
      "training dataset is of size 11000\n"
     ]
    },
    {
     "name": "stderr",
     "output_type": "stream",
     "text": [
      " epoch: 2 ---> elapsed time:  0.118000, quantization error: 0.551997\n",
      "\n",
      " epoch: 3 ---> elapsed time:  0.131000, quantization error: 0.166817\n",
      "\n",
      " epoch: 4 ---> elapsed time:  0.117000, quantization error: 0.164366\n",
      "\n",
      " epoch: 5 ---> elapsed time:  0.122000, quantization error: 0.130438\n",
      "\n",
      " epoch: 6 ---> elapsed time:  0.117000, quantization error: 0.125140\n",
      "\n",
      " epoch: 7 ---> elapsed time:  0.131000, quantization error: 0.119886\n",
      "\n",
      " epoch: 8 ---> elapsed time:  0.260000, quantization error: 0.114678\n",
      "\n",
      " epoch: 9 ---> elapsed time:  0.112000, quantization error: 0.109517\n",
      "\n",
      " epoch: 10 ---> elapsed time:  0.123000, quantization error: 0.104409\n",
      "\n",
      " epoch: 11 ---> elapsed time:  0.123000, quantization error: 0.099355\n",
      "\n",
      " epoch: 12 ---> elapsed time:  0.123000, quantization error: 0.094360\n",
      "\n",
      " epoch: 13 ---> elapsed time:  0.231000, quantization error: 0.089429\n",
      "\n",
      " epoch: 14 ---> elapsed time:  0.126000, quantization error: 0.084567\n",
      "\n",
      " epoch: 15 ---> elapsed time:  0.118000, quantization error: 0.079779\n",
      "\n",
      " epoch: 16 ---> elapsed time:  0.123000, quantization error: 0.075073\n",
      "\n",
      " epoch: 17 ---> elapsed time:  0.122000, quantization error: 0.070455\n",
      "\n",
      " epoch: 18 ---> elapsed time:  0.121000, quantization error: 0.065933\n",
      "\n",
      " epoch: 19 ---> elapsed time:  0.121000, quantization error: 0.061515\n",
      "\n",
      " epoch: 20 ---> elapsed time:  0.121000, quantization error: 0.057212\n",
      "\n",
      " epoch: 21 ---> elapsed time:  0.121000, quantization error: 0.053029\n",
      "\n",
      " epoch: 22 ---> elapsed time:  0.121000, quantization error: 0.048966\n",
      "\n",
      " epoch: 23 ---> elapsed time:  0.138000, quantization error: 0.042971\n",
      "\n",
      " epoch: 24 ---> elapsed time:  0.237000, quantization error: 0.039119\n",
      "\n",
      " epoch: 25 ---> elapsed time:  0.117000, quantization error: 0.035466\n",
      "\n",
      " epoch: 26 ---> elapsed time:  0.123000, quantization error: 0.032014\n",
      "\n",
      " epoch: 27 ---> elapsed time:  0.124000, quantization error: 0.028769\n",
      "\n",
      " epoch: 28 ---> elapsed time:  0.121000, quantization error: 0.025732\n",
      "\n",
      " epoch: 29 ---> elapsed time:  0.121000, quantization error: 0.022906\n",
      "\n",
      " epoch: 30 ---> elapsed time:  0.122000, quantization error: 0.020288\n",
      "\n",
      " epoch: 31 ---> elapsed time:  0.121000, quantization error: 0.017877\n",
      "\n",
      " epoch: 32 ---> elapsed time:  0.121000, quantization error: 0.015669\n",
      "\n",
      " epoch: 33 ---> elapsed time:  0.121000, quantization error: 0.013659\n",
      "\n",
      " epoch: 34 ---> elapsed time:  0.121000, quantization error: 0.011839\n",
      "\n",
      " epoch: 35 ---> elapsed time:  0.125000, quantization error: 0.010202\n",
      "\n",
      " epoch: 36 ---> elapsed time:  0.125000, quantization error: 0.008738\n",
      "\n",
      " epoch: 37 ---> elapsed time:  0.123000, quantization error: 0.007438\n",
      "\n",
      " epoch: 38 ---> elapsed time:  0.123000, quantization error: 0.006290\n",
      "\n",
      " epoch: 39 ---> elapsed time:  0.161000, quantization error: 0.005284\n",
      "\n",
      " epoch: 40 ---> elapsed time:  0.158000, quantization error: 0.004408\n",
      "\n",
      " epoch: 41 ---> elapsed time:  0.125000, quantization error: 0.003652\n",
      "\n",
      " epoch: 42 ---> elapsed time:  0.124000, quantization error: 0.003002\n",
      "\n",
      " epoch: 43 ---> elapsed time:  0.125000, quantization error: 0.002449\n",
      "\n",
      " epoch: 44 ---> elapsed time:  0.123000, quantization error: 0.001982\n",
      "\n",
      " epoch: 45 ---> elapsed time:  0.111000, quantization error: 0.001590\n",
      "\n",
      " epoch: 46 ---> elapsed time:  0.123000, quantization error: 0.001265\n",
      "\n",
      " epoch: 47 ---> elapsed time:  0.122000, quantization error: 0.000997\n",
      "\n",
      " epoch: 48 ---> elapsed time:  0.122000, quantization error: 0.000778\n",
      "\n",
      " epoch: 49 ---> elapsed time:  0.124000, quantization error: 0.000601\n",
      "\n",
      " epoch: 50 ---> elapsed time:  0.122000, quantization error: 0.000390\n",
      "\n",
      " epoch: 51 ---> elapsed time:  0.131000, quantization error: 0.000294\n",
      "\n",
      " epoch: 52 ---> elapsed time:  0.125000, quantization error: 0.000219\n",
      "\n",
      " epoch: 53 ---> elapsed time:  0.121000, quantization error: 0.000192\n",
      "\n",
      " epoch: 54 ---> elapsed time:  0.131000, quantization error: 0.000117\n",
      "\n",
      " epoch: 55 ---> elapsed time:  0.155000, quantization error: 0.000100\n",
      "\n",
      " epoch: 56 ---> elapsed time:  0.253000, quantization error: 0.000071\n",
      "\n",
      " epoch: 57 ---> elapsed time:  0.141000, quantization error: 0.000041\n",
      "\n",
      " epoch: 58 ---> elapsed time:  0.136000, quantization error: 0.000028\n",
      "\n",
      " epoch: 59 ---> elapsed time:  0.138000, quantization error: 0.000019\n",
      "\n",
      " epoch: 60 ---> elapsed time:  0.135000, quantization error: 0.000013\n",
      "\n",
      " epoch: 61 ---> elapsed time:  0.135000, quantization error: 0.000010\n",
      "\n",
      " epoch: 62 ---> elapsed time:  0.136000, quantization error: 0.000009\n",
      "\n",
      " epoch: 63 ---> elapsed time:  0.139000, quantization error: 0.000007\n",
      "\n",
      " epoch: 64 ---> elapsed time:  0.135000, quantization error: 0.000006\n",
      "\n",
      " epoch: 65 ---> elapsed time:  0.135000, quantization error: 0.000005\n",
      "\n",
      " epoch: 66 ---> elapsed time:  0.135000, quantization error: 0.000003\n",
      "\n",
      " epoch: 67 ---> elapsed time:  0.136000, quantization error: 0.000002\n",
      "\n",
      " epoch: 68 ---> elapsed time:  0.136000, quantization error: 0.000001\n",
      "\n",
      " epoch: 69 ---> elapsed time:  0.177000, quantization error: 0.000001\n",
      "\n",
      " epoch: 70 ---> elapsed time:  0.194000, quantization error: 0.000001\n",
      "\n",
      " epoch: 71 ---> elapsed time:  0.122000, quantization error: 0.000001\n",
      "\n",
      " epoch: 72 ---> elapsed time:  0.122000, quantization error: 0.000000\n",
      "\n",
      " epoch: 73 ---> elapsed time:  0.122000, quantization error: 0.000000\n",
      "\n",
      " epoch: 74 ---> elapsed time:  0.122000, quantization error: 0.000000\n",
      "\n",
      " epoch: 75 ---> elapsed time:  0.122000, quantization error: 0.000000\n",
      "\n",
      " epoch: 76 ---> elapsed time:  0.122000, quantization error: 0.000000\n",
      "\n",
      " epoch: 77 ---> elapsed time:  0.124000, quantization error: 0.000000\n",
      "\n",
      " epoch: 78 ---> elapsed time:  0.124000, quantization error: 0.000000\n",
      "\n",
      " epoch: 79 ---> elapsed time:  0.125000, quantization error: 0.000000\n",
      "\n",
      " epoch: 80 ---> elapsed time:  0.125000, quantization error: 0.000000\n",
      "\n",
      " epoch: 81 ---> elapsed time:  0.125000, quantization error: 0.000000\n",
      "\n",
      " epoch: 82 ---> elapsed time:  0.125000, quantization error: 0.000000\n",
      "\n",
      " epoch: 83 ---> elapsed time:  0.126000, quantization error: 0.000000\n",
      "\n",
      " epoch: 84 ---> elapsed time:  0.125000, quantization error: 0.000000\n",
      "\n",
      " epoch: 85 ---> elapsed time:  0.221000, quantization error: 0.000000\n",
      "\n",
      " epoch: 86 ---> elapsed time:  0.138000, quantization error: 0.000000\n",
      "\n",
      " epoch: 87 ---> elapsed time:  0.132000, quantization error: 0.000000\n",
      "\n",
      " epoch: 88 ---> elapsed time:  0.133000, quantization error: 0.000000\n",
      "\n",
      " epoch: 89 ---> elapsed time:  0.132000, quantization error: 0.000000\n",
      "\n",
      " epoch: 90 ---> elapsed time:  0.133000, quantization error: 0.000000\n",
      "\n",
      " epoch: 91 ---> elapsed time:  0.132000, quantization error: 0.000000\n",
      "\n",
      " epoch: 92 ---> elapsed time:  0.141000, quantization error: 0.000000\n",
      "\n",
      " epoch: 93 ---> elapsed time:  0.125000, quantization error: 0.000000\n",
      "\n",
      " epoch: 94 ---> elapsed time:  0.118000, quantization error: 0.000000\n",
      "\n",
      " epoch: 95 ---> elapsed time:  0.125000, quantization error: 0.000000\n",
      "\n",
      " epoch: 96 ---> elapsed time:  0.124000, quantization error: 0.000000\n",
      "\n",
      " epoch: 97 ---> elapsed time:  0.126000, quantization error: 0.000000\n",
      "\n",
      " epoch: 98 ---> elapsed time:  0.123000, quantization error: 0.000000\n",
      "\n",
      " epoch: 99 ---> elapsed time:  0.131000, quantization error: 0.000000\n",
      "\n",
      " epoch: 100 ---> elapsed time:  0.129000, quantization error: 0.000000\n",
      "\n",
      " Finetune training...\n",
      " radius_ini: 1.333333 , radius_final: 1.000000, trainlen: 5\n",
      "\n",
      " epoch: 1 ---> elapsed time:  0.263000, quantization error: 0.000000\n",
      "\n",
      " epoch: 2 ---> elapsed time:  0.124000, quantization error: 0.000000\n",
      "\n",
      " epoch: 3 ---> elapsed time:  0.121000, quantization error: 0.000000\n",
      "\n",
      " epoch: 4 ---> elapsed time:  0.121000, quantization error: 0.000000\n",
      "\n",
      " epoch: 5 ---> elapsed time:  0.121000, quantization error: 0.000000\n",
      "\n",
      " Final quantization error: 0.000000\n",
      " train took: 14.228000 seconds\n"
     ]
    }
   ],
   "source": [
    "np.random.seed(42)\n",
    "model_2 = train(FP_Data,map_size, 0, 2)"
   ]
  },
  {
   "cell_type": "code",
   "execution_count": null,
   "metadata": {},
   "outputs": [],
   "source": []
  },
  {
   "cell_type": "code",
   "execution_count": null,
   "metadata": {},
   "outputs": [],
   "source": []
  },
  {
   "cell_type": "code",
   "execution_count": 26,
   "metadata": {},
   "outputs": [
    {
     "data": {
      "text/plain": [
       "array([2.0778553 , 0.96323067, 0.39087647], dtype=float32)"
      ]
     },
     "execution_count": 26,
     "metadata": {},
     "output_type": "execute_result"
    }
   ],
   "source": [
    "DEBUG = w2vmodel[\"message\"].wv[\"DEBUGProcessedoutofpackages\"]\n",
    "w2vmodel[\"message\"].wv[\"DEBUGProcessedoutofpackages\"]"
   ]
  },
  {
   "cell_type": "code",
   "execution_count": 27,
   "metadata": {},
   "outputs": [
    {
     "data": {
      "text/plain": [
       "array([-4.2954783, -1.6723982, -1.2490478], dtype=float32)"
      ]
     },
     "execution_count": 27,
     "metadata": {},
     "output_type": "execute_result"
    }
   ],
   "source": [
    "THRED=w2vmodel[\"message\"].wv[\"ThreadodcsserverINFOComposetypestatedoneComposedone\"]\n",
    "w2vmodel[\"message\"].wv[\"ThreadodcsserverINFOComposetypestatedoneComposedone\"]"
   ]
  },
  {
   "cell_type": "code",
   "execution_count": 28,
   "metadata": {},
   "outputs": [
    {
     "name": "stdout",
     "output_type": "stream",
     "text": [
      "[-0.04579642  0.11827677 -0.12030392]\n"
     ]
    }
   ],
   "source": [
    "print(w2vmodel[\"message\"].wv[\"rootCMDusrlocalbinmonitorapachestatsshdevnull\"])\n",
    "fp = w2vmodel[\"message\"].wv[\"rootCMDusrlocalbinmonitorapachestatsshdevnull\"]"
   ]
  },
  {
   "cell_type": "code",
   "execution_count": 29,
   "metadata": {},
   "outputs": [],
   "source": [
    "unique_message_vectors = {\"DEBUG\":DEBUG,\"THRED\":THRED,\"FP\":fp}"
   ]
  },
  {
   "cell_type": "code",
   "execution_count": 30,
   "metadata": {},
   "outputs": [
    {
     "data": {
      "text/plain": [
       "array([0.04579642, 0.11827677, 0.12030392])"
      ]
     },
     "execution_count": 30,
     "metadata": {},
     "output_type": "execute_result"
    }
   ],
   "source": [
    "FP_Data[-1]"
   ]
  },
  {
   "cell_type": "code",
   "execution_count": 31,
   "metadata": {},
   "outputs": [],
   "source": [
    "#plt.imshow(model_2)"
   ]
  },
  {
   "cell_type": "code",
   "execution_count": 32,
   "metadata": {},
   "outputs": [
    {
     "name": "stderr",
     "output_type": "stream",
     "text": [
      "/home/mcliffor/anaconda3/envs/devenv/lib/python3.7/site-packages/matplotlib/cbook/deprecation.py:107: MatplotlibDeprecationWarning: Adding an axes using the same arguments as a previous axes currently reuses the earlier instance.  In a future version, a new instance will always be created and returned.  Meanwhile, this warning can be suppressed, and the future behavior ensured, by passing a unique label to each axes instance.\n",
      "  warnings.warn(message, mplDeprecation, stacklevel=1)\n"
     ]
    },
    {
     "data": {
      "image/png": "[encoded data removed]",
      "text/plain": [
       "<Figure size 720x720 with 1 Axes>"
      ]
     },
     "metadata": {},
     "output_type": "display_data"
    }
   ],
   "source": [
    "from sompy.visualization.hitmap import HitMapView\n",
    "model_2.cluster(4)\n",
    "hits  = HitMapView(10,10,\"Clustering\",text_size=7)\n",
    "a=hits.show(model_2, labelsize=12)"
   ]
  },
  {
   "cell_type": "code",
   "execution_count": 33,
   "metadata": {},
   "outputs": [
    {
     "data": {
      "image/png": "[encoded data removed]",
      "text/plain": [
       "<Figure size 1152x288 with 6 Axes>"
      ]
     },
     "metadata": {},
     "output_type": "display_data"
    }
   ],
   "source": [
    "from sompy.visualization.mapview import View2D\n",
    "view2D  = View2D(10,10,\"rand data\",text_size=10)\n",
    "view2D.show(model_2, col_sz=4, which_dim=\"all\", denormalize=True)"
   ]
  },
  {
   "cell_type": "code",
   "execution_count": 34,
   "metadata": {},
   "outputs": [
    {
     "data": {
      "image/png": "[encoded data removed]",
      "text/plain": [
       "<Figure size 720x720 with 2 Axes>"
      ]
     },
     "metadata": {},
     "output_type": "display_data"
    }
   ],
   "source": [
    "from sompy.visualization.bmuhits import BmuHitsView\n",
    "\n",
    "vhts  = BmuHitsView(10,10,\"Hits Map\",text_size=7)\n",
    "vhts.show(model_2, anotate=True, onlyzeros=False, labelsize=12, cmap=\"Greys\", logaritmic=False)"
   ]
  },
  {
   "cell_type": "code",
   "execution_count": 35,
   "metadata": {},
   "outputs": [],
   "source": [
    " m = model.codebook.matrix.reshape([16, 16, transformed_data.shape[1]])"
   ]
  },
  {
   "cell_type": "code",
   "execution_count": 36,
   "metadata": {},
   "outputs": [
    {
     "name": "stderr",
     "output_type": "stream",
     "text": [
      "/home/mcliffor/anaconda3/envs/devenv/lib/python3.7/site-packages/scipy/spatial/distance.py:698: RuntimeWarning: invalid value encountered in double_scalars\n",
      "  dist = 1.0 - uv / np.sqrt(uu * vv)\n"
     ]
    }
   ],
   "source": [
    "distances = get_anomaly_score(transformed_data, 2, m)"
   ]
  },
  {
   "cell_type": "code",
   "execution_count": 37,
   "metadata": {},
   "outputs": [
    {
     "name": "stdout",
     "output_type": "stream",
     "text": [
      "dict_keys(['DEBUG', 'THRED', 'FP'])\n"
     ]
    },
    {
     "name": "stderr",
     "output_type": "stream",
     "text": [
      "/home/mcliffor/anaconda3/envs/devenv/lib/python3.7/site-packages/scipy/spatial/distance.py:698: RuntimeWarning: invalid value encountered in double_scalars\n",
      "  dist = 1.0 - uv / np.sqrt(uu * vv)\n"
     ]
    },
    {
     "data": {
      "text/plain": [
       "[1.891009670738972, 0.1356080530081979, 1.2178702487540334]"
      ]
     },
     "execution_count": 37,
     "metadata": {},
     "output_type": "execute_result"
    }
   ],
   "source": [
    "unique_distances = get_anomaly_score(unique_message_vectors.values(),2,m)\n",
    "print(unique_message_vectors.keys())\n",
    "unique_distances"
   ]
  },
  {
   "cell_type": "markdown",
   "metadata": {},
   "source": [
    "The anomaly score seems odd here. The least frequent value has the lowest anomaly score...?\n",
    "Why?"
   ]
  },
  {
   "cell_type": "code",
   "execution_count": 38,
   "metadata": {},
   "outputs": [
    {
     "data": {
      "text/plain": [
       "{1.8270765755623604, 1.8643919026947395, 1.8910096903094653}"
      ]
     },
     "execution_count": 38,
     "metadata": {},
     "output_type": "execute_result"
    }
   ],
   "source": [
    "set(distances)"
   ]
  },
  {
   "cell_type": "code",
   "execution_count": 39,
   "metadata": {},
   "outputs": [
    {
     "name": "stdout",
     "output_type": "stream",
     "text": [
      "1.8943313609122097\n",
      "False 1.8910096903094653\n",
      "False 1.8643919026947395\n",
      "False 1.8270765755623604\n"
     ]
    }
   ],
   "source": [
    "th = np.mean(distances) + np.std(distances)\n",
    "print(th)\n",
    "for i in set(distances):\n",
    "    print(i > th, i)\n"
   ]
  },
  {
   "cell_type": "code",
   "execution_count": 40,
   "metadata": {},
   "outputs": [],
   "source": [
    " m2 = model_2.codebook.matrix.reshape([16, 16, FP_Data.shape[1]])"
   ]
  },
  {
   "cell_type": "code",
   "execution_count": 41,
   "metadata": {},
   "outputs": [],
   "source": [
    "distances_2 = get_anomaly_score(FP_Data, 2, m2)"
   ]
  },
  {
   "cell_type": "code",
   "execution_count": 42,
   "metadata": {},
   "outputs": [
    {
     "data": {
      "text/plain": [
       "{0.06921963226615602, 0.23759349702946264, 0.2894953948942903}"
      ]
     },
     "execution_count": 42,
     "metadata": {},
     "output_type": "execute_result"
    }
   ],
   "source": [
    "set(distances_2)"
   ]
  },
  {
   "cell_type": "code",
   "execution_count": 43,
   "metadata": {},
   "outputs": [
    {
     "name": "stdout",
     "output_type": "stream",
     "text": [
      "[0.04579642 0.11827677 0.12030392]\n",
      "[0.04579642 0.11827677 0.12030392]\n"
     ]
    }
   ],
   "source": [
    "print(transformed_data[6188])\n",
    "print(FP_Data[-1])"
   ]
  },
  {
   "cell_type": "code",
   "execution_count": 44,
   "metadata": {},
   "outputs": [
    {
     "name": "stdout",
     "output_type": "stream",
     "text": [
      "1.8270765755623604\n",
      "0.06921963226615602\n"
     ]
    },
    {
     "data": {
      "text/plain": [
       "True"
      ]
     },
     "execution_count": 44,
     "metadata": {},
     "output_type": "execute_result"
    }
   ],
   "source": [
    "d1m = np.mean(distances)\n",
    "d1s = np.std(distances)\n",
    "\n",
    "d2m = np.mean(distances_2)\n",
    "d2s = np.std(distances_2)\n",
    "\n",
    "d1 = abs(distances[6188]-d1m)/d1s\n",
    "d2 = abs(distances_2[-1]-d2m)/d2s\n",
    "\n",
    "print(distances[6188])\n",
    "print(distances_2[-1])\n",
    "\n",
    "distances[6188] >= distances_2[-1]"
   ]
  },
  {
   "cell_type": "code",
   "execution_count": 45,
   "metadata": {},
   "outputs": [
    {
     "data": {
      "text/plain": [
       "1.8904363381217977"
      ]
     },
     "execution_count": 45,
     "metadata": {},
     "output_type": "execute_result"
    }
   ],
   "source": [
    "d1m"
   ]
  },
  {
   "cell_type": "code",
   "execution_count": 46,
   "metadata": {},
   "outputs": [
    {
     "data": {
      "text/plain": [
       "0.0038950227904120107"
      ]
     },
     "execution_count": 46,
     "metadata": {},
     "output_type": "execute_result"
    }
   ],
   "source": [
    "d1s"
   ]
  },
  {
   "cell_type": "code",
   "execution_count": 47,
   "metadata": {},
   "outputs": [
    {
     "data": {
      "text/plain": [
       "16.26685284497018"
      ]
     },
     "execution_count": 47,
     "metadata": {},
     "output_type": "execute_result"
    }
   ],
   "source": [
    "d1"
   ]
  },
  {
   "cell_type": "code",
   "execution_count": 48,
   "metadata": {},
   "outputs": [
    {
     "data": {
      "text/plain": [
       "3.1404300024983702"
      ]
     },
     "execution_count": 48,
     "metadata": {},
     "output_type": "execute_result"
    }
   ],
   "source": [
    "d2"
   ]
  },
  {
   "cell_type": "code",
   "execution_count": 49,
   "metadata": {},
   "outputs": [
    {
     "data": {
      "text/plain": [
       "True"
      ]
     },
     "execution_count": 49,
     "metadata": {},
     "output_type": "execute_result"
    }
   ],
   "source": [
    "d1 > d2"
   ]
  },
  {
   "cell_type": "code",
   "execution_count": null,
   "metadata": {},
   "outputs": [],
   "source": []
  },
  {
   "cell_type": "code",
   "execution_count": 50,
   "metadata": {},
   "outputs": [
    {
     "ename": "KeyboardInterrupt",
     "evalue": "",
     "output_type": "error",
     "traceback": [
      "\u001b[0;31m---------------------------------------------------------------------------\u001b[0m",
      "\u001b[0;31mKeyboardInterrupt\u001b[0m                         Traceback (most recent call last)",
      "\u001b[0;32m<ipython-input-50-a5f615bf7d9b>\u001b[0m in \u001b[0;36m<module>\u001b[0;34m()\u001b[0m\n\u001b[1;32m      3\u001b[0m \u001b[0mx\u001b[0m\u001b[0;34m,\u001b[0m \u001b[0m_\u001b[0m \u001b[0;34m=\u001b[0m \u001b[0mSOM\u001b[0m\u001b[0;34m.\u001b[0m\u001b[0mSOM\u001b[0m\u001b[0;34m(\u001b[0m\u001b[0mtransformed_data\u001b[0m\u001b[0;34m,\u001b[0m\u001b[0;36m24\u001b[0m \u001b[0;34m,\u001b[0m\u001b[0mlen\u001b[0m\u001b[0;34m(\u001b[0m\u001b[0mtransformed_data\u001b[0m\u001b[0;34m)\u001b[0m\u001b[0;34m)\u001b[0m\u001b[0;34m\u001b[0m\u001b[0m\n\u001b[1;32m      4\u001b[0m \u001b[0mnp\u001b[0m\u001b[0;34m.\u001b[0m\u001b[0mrandom\u001b[0m\u001b[0;34m.\u001b[0m\u001b[0mseed\u001b[0m\u001b[0;34m(\u001b[0m\u001b[0;36m42\u001b[0m\u001b[0;34m)\u001b[0m\u001b[0;34m\u001b[0m\u001b[0m\n\u001b[0;32m----> 5\u001b[0;31m \u001b[0my\u001b[0m\u001b[0;34m,\u001b[0m \u001b[0m_\u001b[0m \u001b[0;34m=\u001b[0m \u001b[0mSOM\u001b[0m\u001b[0;34m.\u001b[0m\u001b[0mSOM\u001b[0m\u001b[0;34m(\u001b[0m\u001b[0mFP_Data\u001b[0m\u001b[0;34m,\u001b[0m\u001b[0;36m24\u001b[0m\u001b[0;34m,\u001b[0m\u001b[0mlen\u001b[0m\u001b[0;34m(\u001b[0m\u001b[0mFP_Data\u001b[0m\u001b[0;34m)\u001b[0m\u001b[0;34m)\u001b[0m\u001b[0;34m\u001b[0m\u001b[0m\n\u001b[0m",
      "\u001b[0;32m~/Desktop/zak_lad/SOM.py\u001b[0m in \u001b[0;36mSOM\u001b[0;34m(inp, map_size, iterations, mapp, exp)\u001b[0m\n\u001b[1;32m     42\u001b[0m         \u001b[0;32mfor\u001b[0m \u001b[0mi\u001b[0m \u001b[0;32min\u001b[0m \u001b[0mrange\u001b[0m\u001b[0;34m(\u001b[0m\u001b[0mmapp_1\u001b[0m\u001b[0;34m.\u001b[0m\u001b[0mshape\u001b[0m\u001b[0;34m[\u001b[0m\u001b[0;36m0\u001b[0m\u001b[0;34m]\u001b[0m\u001b[0;34m)\u001b[0m\u001b[0;34m:\u001b[0m\u001b[0;34m\u001b[0m\u001b[0m\n\u001b[1;32m     43\u001b[0m             \u001b[0;32mfor\u001b[0m \u001b[0mj\u001b[0m \u001b[0;32min\u001b[0m \u001b[0mrange\u001b[0m\u001b[0;34m(\u001b[0m\u001b[0mmapp_1\u001b[0m\u001b[0;34m.\u001b[0m\u001b[0mshape\u001b[0m\u001b[0;34m[\u001b[0m\u001b[0;36m1\u001b[0m\u001b[0;34m]\u001b[0m\u001b[0;34m)\u001b[0m\u001b[0;34m:\u001b[0m\u001b[0;34m\u001b[0m\u001b[0m\n\u001b[0;32m---> 44\u001b[0;31m                 \u001b[0mdist\u001b[0m \u001b[0;34m=\u001b[0m \u001b[0mnp\u001b[0m\u001b[0;34m.\u001b[0m\u001b[0mlinalg\u001b[0m\u001b[0;34m.\u001b[0m\u001b[0mnorm\u001b[0m\u001b[0;34m(\u001b[0m\u001b[0mcurrent_vector\u001b[0m\u001b[0;34m-\u001b[0m\u001b[0mmapp_1\u001b[0m\u001b[0;34m[\u001b[0m\u001b[0mi\u001b[0m\u001b[0;34m]\u001b[0m\u001b[0;34m[\u001b[0m\u001b[0mj\u001b[0m\u001b[0;34m]\u001b[0m\u001b[0;34m)\u001b[0m\u001b[0;34m\u001b[0m\u001b[0m\n\u001b[0m\u001b[1;32m     45\u001b[0m                 \u001b[0;32mif\u001b[0m \u001b[0mdist\u001b[0m \u001b[0;34m<\u001b[0m \u001b[0mbmu\u001b[0m\u001b[0;34m:\u001b[0m\u001b[0;34m\u001b[0m\u001b[0m\n\u001b[1;32m     46\u001b[0m                     \u001b[0mbmu\u001b[0m \u001b[0;34m=\u001b[0m \u001b[0mdist\u001b[0m\u001b[0;34m\u001b[0m\u001b[0m\n",
      "\u001b[0;32m~/anaconda3/envs/devenv/lib/python3.7/site-packages/numpy/linalg/linalg.py\u001b[0m in \u001b[0;36mnorm\u001b[0;34m(x, ord, axis, keepdims)\u001b[0m\n\u001b[1;32m   2341\u001b[0m \u001b[0;34m\u001b[0m\u001b[0m\n\u001b[1;32m   2342\u001b[0m     \"\"\"\n\u001b[0;32m-> 2343\u001b[0;31m     \u001b[0mx\u001b[0m \u001b[0;34m=\u001b[0m \u001b[0masarray\u001b[0m\u001b[0;34m(\u001b[0m\u001b[0mx\u001b[0m\u001b[0;34m)\u001b[0m\u001b[0;34m\u001b[0m\u001b[0m\n\u001b[0m\u001b[1;32m   2344\u001b[0m \u001b[0;34m\u001b[0m\u001b[0m\n\u001b[1;32m   2345\u001b[0m     \u001b[0;32mif\u001b[0m \u001b[0;32mnot\u001b[0m \u001b[0missubclass\u001b[0m\u001b[0;34m(\u001b[0m\u001b[0mx\u001b[0m\u001b[0;34m.\u001b[0m\u001b[0mdtype\u001b[0m\u001b[0;34m.\u001b[0m\u001b[0mtype\u001b[0m\u001b[0;34m,\u001b[0m \u001b[0;34m(\u001b[0m\u001b[0minexact\u001b[0m\u001b[0;34m,\u001b[0m \u001b[0mobject_\u001b[0m\u001b[0;34m)\u001b[0m\u001b[0;34m)\u001b[0m\u001b[0;34m:\u001b[0m\u001b[0;34m\u001b[0m\u001b[0m\n",
      "\u001b[0;31mKeyboardInterrupt\u001b[0m: "
     ]
    }
   ],
   "source": [
    "# Change training to random sampling \n",
    "np.random.seed(42)\n",
    "x, _ = SOM.SOM(transformed_data,24 ,len(transformed_data))\n",
    "np.random.seed(42)\n",
    "y, _ = SOM.SOM(FP_Data,24,len(FP_Data))"
   ]
  },
  {
   "cell_type": "code",
   "execution_count": null,
   "metadata": {},
   "outputs": [],
   "source": [
    "plt.imshow(x)"
   ]
  },
  {
   "cell_type": "code",
   "execution_count": null,
   "metadata": {},
   "outputs": [],
   "source": [
    "plt.imshow(y)"
   ]
  },
  {
   "cell_type": "code",
   "execution_count": null,
   "metadata": {},
   "outputs": [],
   "source": [
    "distances = get_anomaly_score(transformed_data, 2, x)\n",
    "distances_2 = get_anomaly_score(FP_Data, 2, y)\n",
    "print(distances[6188])\n",
    "print(distances_2[-1])\n",
    "distances[6188] >= distances_2[-1]"
   ]
  },
  {
   "cell_type": "code",
   "execution_count": null,
   "metadata": {},
   "outputs": [],
   "source": [
    "unique_distances = get_anomaly_score(unique_message_vectors.values(),2,x)\n",
    "print(unique_message_vectors.keys())\n",
    "unique_distances"
   ]
  },
  {
   "cell_type": "code",
   "execution_count": null,
   "metadata": {},
   "outputs": [],
   "source": [
    "unique_distances = get_anomaly_score(unique_message_vectors.values(),2,y)\n",
    "print(unique_message_vectors.keys())\n",
    "unique_distances\n"
   ]
  },
  {
   "cell_type": "markdown",
   "metadata": {},
   "source": [
    "my implementation appears to be behaving as expected: the lower frequency ==> higher initial score. what is the SOMPY model doing differently? "
   ]
  },
  {
   "cell_type": "code",
   "execution_count": null,
   "metadata": {},
   "outputs": [],
   "source": []
  },
  {
   "cell_type": "code",
   "execution_count": null,
   "metadata": {},
   "outputs": [],
   "source": [
    "d1m = np.mean(distances)\n",
    "d1s = np.std(distances)\n",
    "\n",
    "d2m = np.mean(distances_2)\n",
    "d2s = np.std(distances_2)\n",
    "\n",
    "d1 = abs(distances[6188]-d1m)/d1s\n",
    "d2 = abs(distances_2[-1]-d2m)/d2s\n",
    "\n",
    "print(distances[6188])\n",
    "print(distances_2[-1])\n",
    "\n",
    "distances[6188] >= distances_2[-1]"
   ]
  },
  {
   "cell_type": "code",
   "execution_count": null,
   "metadata": {},
   "outputs": [],
   "source": [
    "# Change training to random sampling \n",
    "np.random.seed(42)\n",
    "x, _ = SOM.SOM(transformed_data,24 ,len(transformed_data))\n",
    "np.random.seed(42)\n",
    "y, _ = SOM.SOM(FP_Data[10000:],24,1000,x)"
   ]
  },
  {
   "cell_type": "code",
   "execution_count": null,
   "metadata": {},
   "outputs": [],
   "source": [
    "plt.imshow(x)"
   ]
  },
  {
   "cell_type": "code",
   "execution_count": null,
   "metadata": {},
   "outputs": [],
   "source": [
    "plt.imshow(y)"
   ]
  },
  {
   "cell_type": "code",
   "execution_count": null,
   "metadata": {},
   "outputs": [],
   "source": [
    "distances = get_anomaly_score(transformed_data, 2, x)\n",
    "distances_2 = get_anomaly_score(FP_Data, 2, y)\n",
    "print(distances[6188])\n",
    "print(distances_2[-1])\n",
    "distances[6188] >= distances_2[-1]"
   ]
  },
  {
   "cell_type": "code",
   "execution_count": null,
   "metadata": {},
   "outputs": [],
   "source": [
    "d1m = np.mean(distances)\n",
    "d1s = np.std(distances)\n",
    "\n",
    "d2m = np.mean(distances_2)\n",
    "d2s = np.std(distances_2)\n",
    "\n",
    "d1 = abs(distances[6188]-d1m)/d1s\n",
    "d2 = abs(distances_2[-1]-d2m)/d2s\n",
    "\n",
    "print(distances[6188])\n",
    "print(distances_2[-1])\n",
    "\n",
    "distances[6188] >= distances_2[-1]"
   ]
  }
 ],
 "metadata": {
  "kernelspec": {
   "display_name": "devenv",
   "language": "python",
   "name": "devenv"
  },
  "language_info": {
   "codemirror_mode": {
    "name": "ipython",
    "version": 3
   },
   "file_extension": ".py",
   "mimetype": "text/x-python",
   "name": "python",
   "nbconvert_exporter": "python",
   "pygments_lexer": "ipython3",
   "version": "3.7.0"
  },
  "varInspector": {
   "cols": {
    "lenName": 16,
    "lenType": 16,
    "lenVar": 40
   },
   "kernels_config": {
    "python": {
     "delete_cmd_postfix": "",
     "delete_cmd_prefix": "del ",
     "library": "var_list.py",
     "varRefreshCmd": "print(var_dic_list())"
    },
    "r": {
     "delete_cmd_postfix": ") ",
     "delete_cmd_prefix": "rm(",
     "library": "var_list.r",
     "varRefreshCmd": "cat(var_dic_list()) "
    }
   },
   "oldHeight": 359.77778,
   "position": {
    "height": "40px",
    "left": "1236.32px",
    "right": "20px",
    "top": "121.997px",
    "width": "778px"
   },
   "types_to_exclude": [
    "module",
    "function",
    "builtin_function_or_method",
    "instance",
    "_Feature"
   ],
   "varInspector_section_display": "none",
   "window_display": false
  }
 },
 "nbformat": 4,
 "nbformat_minor": 2
}
